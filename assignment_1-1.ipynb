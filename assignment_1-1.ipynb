{
 "cells": [
  {
   "cell_type": "markdown",
   "id": "87b91d83",
   "metadata": {},
   "source": [
    "# Assignment 1\n",
    "### Understanding Uncertainty\n",
    "### Due 9/5\n",
    "### Seth Spire"
   ]
  },
  {
   "cell_type": "markdown",
   "id": "380e339f",
   "metadata": {},
   "source": [
    "1. Create a new public repo on Github under your account. Include a readme file.\n",
    "2. Clone it to your machine. Put this file into that repo.\n",
    "3. Use the following function to download the example data for the course:"
   ]
  },
  {
   "cell_type": "code",
   "execution_count": 1,
   "id": "2d62b4f6",
   "metadata": {},
   "outputs": [
    {
     "name": "stdout",
     "output_type": "stream",
     "text": [
      "Download file already exists\n",
      "Data directory already exists\n"
     ]
    }
   ],
   "source": [
    "def download_data(force=False):\n",
    "    \"\"\"Download and extract course data from Zenodo.\"\"\"\n",
    "    import urllib.request, zipfile, os\n",
    "    \n",
    "    zip_path = 'data.zip'\n",
    "    data_dir = 'data'\n",
    "    \n",
    "    if not os.path.exists(zip_path) or force:\n",
    "        print(\"Downloading course data\")\n",
    "        urllib.request.urlretrieve(\n",
    "            'https://zenodo.org/records/16954427/files/data.zip?download=1',\n",
    "            zip_path\n",
    "        )\n",
    "        print(\"Download complete\")\n",
    "    else:\n",
    "        print(\"Download file already exists\")\n",
    "        \n",
    "    if not os.path.exists(data_dir) or force:\n",
    "        print(\"Extracting data files...\")\n",
    "        with zipfile.ZipFile(zip_path, 'r') as zip_ref:\n",
    "            zip_ref.extractall(data_dir)\n",
    "        print(\"Data extracted\")\n",
    "    else:\n",
    "        print(\"Data directory already exists\")\n",
    "\n",
    "download_data()"
   ]
  },
  {
   "cell_type": "markdown",
   "id": "01db0045",
   "metadata": {},
   "source": [
    "4. Open one of the datasets using Pandas:\n",
    "    1. `ames_prices.csv`: Housing characteristics and prices\n",
    "    2. `college_completion.csv`: Public, nonprofit, and for-profit educational institutions, graduation rates, and financial aid\n",
    "    3. `ForeignGifts_edu.csv`: Monetary and in-kind transfers from foreign entities to U.S. educational institutions\n",
    "    4. `iowa.csv`: Liquor sales in Iowa, at the transaction level\n",
    "    5. `metabric.csv`: Cancer patient and outcome data\n",
    "    6. `mn_police_use_of_force.csv`: Records of physical altercations between Minnessota police and private citizens\n",
    "    7. `nhanes_data_17_18.csv`: National Health and Nutrition Examination Survey\n",
    "    8. `tuna.csv`: Yellowfin Tuna Genome (I don't recommend this one; it's just a sequence of G, C, A, T )\n",
    "    9. `va_procurement.csv`: Public spending by the state of Virginia"
   ]
  },
  {
   "cell_type": "code",
   "execution_count": 2,
   "id": "fd304268",
   "metadata": {},
   "outputs": [],
   "source": [
    "import pandas as pd\n",
    "foreign_gifts = pd.read_csv('data/ForeignGifts_edu.csv')"
   ]
  },
  {
   "cell_type": "markdown",
   "id": "fa5cade1",
   "metadata": {},
   "source": [
    "5. Pick two or three variables and briefly analyze them\n",
    "    - Is it a categorical or numeric variable?\n",
    "    - How many missing values are there? (`df['var'].isna()` and `np.sum()`)\n",
    "    - If categorical, tabulate the values (`df['var'].value_counts()`) and if numeric, get a summary (`df['var'].describe()`)"
   ]
  },
  {
   "cell_type": "code",
   "execution_count": 3,
   "id": "b5bc1f1a",
   "metadata": {},
   "outputs": [
    {
     "name": "stdout",
     "output_type": "stream",
     "text": [
      "missing values: 0\n",
      "rows with negative amounts: 24\n"
     ]
    },
    {
     "data": {
      "text/plain": [
       "count      28221.00\n",
       "mean      588232.72\n",
       "std      3222011.43\n",
       "min      -537770.00\n",
       "25%         5700.00\n",
       "50%        94615.00\n",
       "75%       376142.00\n",
       "max     99999999.00\n",
       "Name: Foreign Gift Amount, dtype: float64"
      ]
     },
     "execution_count": 3,
     "metadata": {},
     "output_type": "execute_result"
    }
   ],
   "source": [
    "pd.set_option('display.float_format', '{:.2f}'.format)\n",
    "print(\"missing values:\", foreign_gifts['Foreign Gift Amount'].isna().sum())\n",
    "print(\"rows with negative amounts:\", len(foreign_gifts[foreign_gifts['Foreign Gift Amount'] < 0]))\n",
    "foreign_gifts['Foreign Gift Amount'].describe()\n",
    "\n"
   ]
  },
  {
   "cell_type": "markdown",
   "id": "24494c72",
   "metadata": {},
   "source": [
    "> The variable `Foreign Gift Amount`is numerical. It has no missing values, but it does have 24 negative ones, which feels like mistakes in the data. Doing some research on this data set at the Federal Student Aid website (https://fsapartners.ed.gov/knowledge-center/topics/section-117-foreign-gift-and-contract-reporting/section-117-foreign-gift-and-contract-data#), it says, \"Any negative amounts reported in the spreadsheets indicate an institutionally reported adjustment to a previously reported amount.\" So those are correctly negative but have a different meaning as they are to fix previous data. The median is about $94k while the mean is about $588k so there must be a few very large values (like the max which is nearly $100 million) causing it to skew right."
   ]
  },
  {
   "cell_type": "code",
   "execution_count": 4,
   "id": "009796a0",
   "metadata": {},
   "outputs": [
    {
     "name": "stdout",
     "output_type": "stream",
     "text": [
      "missing values: 0\n"
     ]
    },
    {
     "data": {
      "text/plain": [
       "Gift Type\n",
       "Contract         17274\n",
       "Monetary Gift    10936\n",
       "Real Estate         11\n",
       "Name: count, dtype: int64"
      ]
     },
     "execution_count": 4,
     "metadata": {},
     "output_type": "execute_result"
    }
   ],
   "source": [
    "print(\"missing values:\", foreign_gifts['Gift Type'].isna().sum())\n",
    "foreign_gifts['Gift Type'].value_counts()"
   ]
  },
  {
   "cell_type": "markdown",
   "id": "030e3cfa",
   "metadata": {},
   "source": [
    "> The variable `Gift Type` is categorical. It has no missing values and has 3 different categories: Contract, Monetary Gift, and Real Estate. Contracts are the majority at approximately 61%. Monetary Gifts make up most of the rest at about 38%. While Real Estate is uncommon with just 11 or the over 28,000 rows."
   ]
  },
  {
   "cell_type": "code",
   "execution_count": 5,
   "id": "2177f2c2",
   "metadata": {},
   "outputs": [
    {
     "name": "stdout",
     "output_type": "stream",
     "text": [
      "missing values: 0\n"
     ]
    },
    {
     "data": {
      "text/plain": [
       "Country of Giftor\n",
       "ENGLAND                     3655\n",
       "CHINA                       2461\n",
       "CANADA                      2344\n",
       "JAPAN                       1896\n",
       "SWITZERLAND                 1676\n",
       "SAUDI ARABIA                1610\n",
       "FRANCE                      1437\n",
       "GERMANY                     1394\n",
       "HONG KONG                   1080\n",
       "SOUTH KOREA                  811\n",
       "QATAR                        693\n",
       "THE NETHERLANDS              512\n",
       "KOREA                        452\n",
       "INDIA                        434\n",
       "TAIWAN                       381\n",
       "ISRAEL                       373\n",
       "UNITED ARAB EMIRATES         365\n",
       "SINGAPORE                    360\n",
       "AUSTRALIA                    335\n",
       "ITALY                        318\n",
       "KUWAIT                       302\n",
       "DENMARK                      292\n",
       "SWEDEN                       275\n",
       "BRAZIL                       256\n",
       "SPAIN                        240\n",
       "NORWAY                       240\n",
       "IRELAND                      224\n",
       "MEXICO                       221\n",
       "INDONESIA                    184\n",
       "NIGERIA                      180\n",
       "OMAN                         178\n",
       "MALAYSIA                     150\n",
       "POLAND                       150\n",
       "THAILAND                     143\n",
       "BELGIUM                      142\n",
       "UNITED NATIONS               141\n",
       "SOUTH AFRICA                 135\n",
       "TURKEY                       132\n",
       "COLOMBIA                     129\n",
       "BERMUDA                      117\n",
       "KENYA                         76\n",
       "SCOTLAND                      71\n",
       "BAHAMAS                       70\n",
       "NEW ZEALAND                   67\n",
       "ZAMBIA                        63\n",
       "PANAMA                        59\n",
       "MONACO                        55\n",
       "CHILE                         53\n",
       "FINLAND                       52\n",
       "VIETNAM                       50\n",
       "AUSTRIA                       50\n",
       "RUSSIA                        50\n",
       "KAZAKHSTAN                    48\n",
       "GEORGIA                       45\n",
       "PERU                          42\n",
       "GREECE                        38\n",
       "USA                           36\n",
       "JORDAN                        34\n",
       "COSTA RICA                    33\n",
       "PORTUGAL                      33\n",
       "CAYMAN ISLANDS (THE)          32\n",
       "LIECHTENSTEIN                 31\n",
       "EGYPT                         31\n",
       "ARGENTINA                     29\n",
       "BANGLADESH                    28\n",
       "CEYLON                        28\n",
       "GHANA                         28\n",
       "IRAQ                          27\n",
       "RWANDA                        26\n",
       "GUATEMALA                     24\n",
       "TANZANIA                      24\n",
       "LUXEMBOURG                    24\n",
       "PHILIPPINES                   23\n",
       "LEBANON                       22\n",
       "ETHIOPIA                      17\n",
       "UGANDA                        15\n",
       "GRENADA                       14\n",
       "HUNGARY                       14\n",
       "BAHRAIN                       14\n",
       "CZECH REPUBLIC                13\n",
       "VIRGIN ISLANDS (BRITISH)      13\n",
       "TRINIDAD                      11\n",
       "SWAZILAND                     11\n",
       "PAKISTAN                      11\n",
       "HAITI                         10\n",
       "BURMA                         10\n",
       "MALAWI                        10\n",
       "UKRAINE                       10\n",
       "PALESTINE, STATE OF            9\n",
       "AMERICAN SAMOA                 8\n",
       "DOMINICAN REPUBLIC             8\n",
       "ECUADOR                        7\n",
       "BULGARIA                       7\n",
       "GUAM                           7\n",
       "MOROCCO                        7\n",
       "WALES                          6\n",
       "AFGHANISTAN                    6\n",
       "URUGUAY                        6\n",
       "PUERTO RICO                    6\n",
       "JERSEY                         6\n",
       "GUERNSEY                       6\n",
       "CURAçAO                        5\n",
       "SERBIA                         5\n",
       "VENEZUELA                      5\n",
       "EL SALVADOR                    5\n",
       "LESOTHO                        5\n",
       "HONDURAS                       5\n",
       "MALTA                          5\n",
       "SENEGAL                        4\n",
       "MOZAMBIQUE                     4\n",
       "SYRIAN ARAB REPUBLIC           4\n",
       "CYPRUS                         4\n",
       "JAMAICA                        4\n",
       "MALI                           4\n",
       "BOTSWANA                       4\n",
       "NORTHERN IRELAND               4\n",
       "YEMEN                          4\n",
       "LIBERIA                        3\n",
       "MAURITIUS                      3\n",
       "BRITISH WEST INDIES            3\n",
       "LATVIA                         3\n",
       "ISLE OF MAN                    3\n",
       "LITHUANIA                      3\n",
       "PAPUA NEW GUINEA               3\n",
       "MADAGASCAR                     2\n",
       "ANGOLA                         2\n",
       "CôTE D'IVOIRE                  2\n",
       "MICRONESIA                     2\n",
       "CAMBODIA                       2\n",
       "BURKINA FASO                   2\n",
       "ZIMBABWE                       2\n",
       "NORTHERN MARIANA ISL           2\n",
       "ICELAND                        2\n",
       "NAMIBIA                        2\n",
       "BOSNIA AND HERZEGOVINA         2\n",
       "IRAN                           2\n",
       "BOSNIA-HERCEGOVINA             2\n",
       "SLOVENIA                       2\n",
       "AZERBAIJAN                     2\n",
       "BOLIVIA                        2\n",
       "PALAU                          1\n",
       "ERITREA                        1\n",
       "BELARUS                        1\n",
       "BARBADOS                       1\n",
       "CROATIA                        1\n",
       "SLOVAKIA                       1\n",
       "TOKELAU                        1\n",
       "ROMANIA                        1\n",
       "ARMENIA                        1\n",
       "ST. LUCIA                      1\n",
       "NEPAL                          1\n",
       "ST. KITTS-NEVIS                1\n",
       "TUNISIA                        1\n",
       "MARSHAL ISLANDS (THE)          1\n",
       "ANTIGUA                        1\n",
       "Name: count, dtype: int64"
      ]
     },
     "execution_count": 5,
     "metadata": {},
     "output_type": "execute_result"
    }
   ],
   "source": [
    "print(\"missing values:\", foreign_gifts['Country of Giftor'].isna().sum())\n",
    "pd.set_option('display.max_rows', None)\n",
    "foreign_gifts['Country of Giftor'].value_counts()"
   ]
  },
  {
   "cell_type": "markdown",
   "id": "d9f15c55",
   "metadata": {},
   "source": [
    "> The variable `Country of Giftor` is categorical. There are no missing values. There are 155 countries represented in the data as having given gifts (or contracts) to US higher education. England has given the most gifts by far, followed by China and Canada. Qatar is fairly high on the list despite being one of the smaller countries in the world. They certainly do have plenty of money."
   ]
  },
  {
   "cell_type": "markdown",
   "id": "dbf2318a",
   "metadata": {},
   "source": [
    "6. What are some questions and prediction tools you could create using these data? Who would the stakeholder be for that prediction tool? What practical or ethical questions would it create? What other data would you want, that are not available in your data?"
   ]
  },
  {
   "cell_type": "markdown",
   "id": "0c843024",
   "metadata": {},
   "source": [
    "> This data set does have dates for the gifts (though they appear to be annoyingly coded from Excel as the number of days since January 1, 1900), so I would be fascinated in doing some time series analysis, asking questions about whether or not certain events like the COVID-19 pandemic or the 2008 financial crisis affected the number of and total value of gifts given. This could also be used to model/predict future gifts as well. I would also be interested in where the biggest flows of money are going: which countries or giftors have the biggest relationships with a specific university. \n",
    "\n",
    "> For much of this, the stakeholder would be leadership of universities (president, board of trustees, etc.) who depend on these gifts and want to know what their future projections look like, amongst many other things.\n",
    "\n",
    "> Practically, there may be concerns about how stable and predictive a model of future gifts could be. Gifts may be so dependent on the exact needs of a time (for example, funding research for COVID-19 could have given universities a temporary increase that is not indicative of future giving). Ethically, university leadership groups would likely be using this to try and maximize their total gifts received, which means they coul choose to target certain countries or giftors which may bring about moral or ethical dilemmas based on who is giving the money (for example, just because UVA could get rich taking money from ISIS, they probably shouldn't).\n",
    "\n",
    "> I would love to be able to know what sort of projects the universities are using the money for. For example, what is Cornell using the six $100 million contracts from Qatar for? I would also like to combine this with some data about the universities, such as their endowment size and stuent enrollment. "
   ]
  },
  {
   "cell_type": "markdown",
   "id": "a4a7ddc7",
   "metadata": {},
   "source": [
    "7. Commit your work to the repo (`git commit -am 'Finish assignment'` at the command line, or use the Git panel in VS Code). Push your work back to Github and submit the link on Canvas in the assignment tab."
   ]
  }
 ],
 "metadata": {
  "kernelspec": {
   "display_name": "ds6001",
   "language": "python",
   "name": "python3"
  },
  "language_info": {
   "codemirror_mode": {
    "name": "ipython",
    "version": 3
   },
   "file_extension": ".py",
   "mimetype": "text/x-python",
   "name": "python",
   "nbconvert_exporter": "python",
   "pygments_lexer": "ipython3",
   "version": "3.13.5"
  }
 },
 "nbformat": 4,
 "nbformat_minor": 5
}
