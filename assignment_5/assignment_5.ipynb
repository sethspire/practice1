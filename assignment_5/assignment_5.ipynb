{
 "cells": [
  {
   "cell_type": "markdown",
   "id": "dd21efe9",
   "metadata": {},
   "source": [
    "# Assignment 5\n",
    "\n",
    "Seth Spire\n",
    "\n",
    "### Do all four questions."
   ]
  },
  {
   "cell_type": "code",
   "execution_count": 1,
   "id": "91ae2bd3",
   "metadata": {},
   "outputs": [],
   "source": [
    "import numpy as np\n",
    "import pandas as pd\n",
    "import pickle"
   ]
  },
  {
   "cell_type": "markdown",
   "id": "1ee9b4e8",
   "metadata": {},
   "source": [
    "### **1.** Let's review some basic matrix multiplication. \n"
   ]
  },
  {
   "cell_type": "markdown",
   "id": "c2225d04",
   "metadata": {},
   "source": [
    "When you have an $M \\times N$ matrix $A$ with $M$ rows and $N$ columns, \n",
    "$$\n",
    "A= \\left[ \\begin{array}{cccc} a_{11} & a_{12} & ... & a_{1N} \\\\\n",
    "a_{21} & a_{22} & ... & a_{2N} \\\\\n",
    "\\vdots & \\vdots & ... & \\vdots \\\\\n",
    "a_{M1} & a_{M2} & ... & a_{MN} \n",
    "\\end{array} \\right],\n",
    "$$\n",
    "and you right-multiply it by a vector\n",
    "$$\n",
    "x = \\left[ \\begin{array}{c} x_1 \\\\ x_2 \\\\ \\vdots \\\\ x_N \n",
    "\\end{array} \\right],\n",
    "$$\n",
    "you get\n",
    "$$\n",
    "Ax = \\left[ \\begin{array}{c} \\sum_{i=1}^N a_{1i} x_i \\\\ \\sum_{i=1}^N a_{2i} x_i \\\\ \\vdots \\\\ \\sum_{i=1}^N a_{Mi} x_i \n",
    "\\end{array} \\right].\n",
    "$$\n",
    "This is just \"matrix row times column vector\" element-by-element, stacking the results into a new vector.\n",
    "\n",
    "For this to make sense, $N$ must be the same for the matrix and the vector, but $M$ can be different from $N$. \n",
    "\n",
    "Let's play with some NumPy to see this. First we'll define a matrix $A$:"
   ]
  },
  {
   "cell_type": "code",
   "execution_count": 2,
   "id": "33df3579",
   "metadata": {},
   "outputs": [
    {
     "data": {
      "text/plain": [
       "array([[1, 2, 3],\n",
       "       [4, 5, 6],\n",
       "       [7, 8, 9]])"
      ]
     },
     "execution_count": 2,
     "metadata": {},
     "output_type": "execute_result"
    }
   ],
   "source": [
    "A = np.array([ [1,2,3],\n",
    "              [4,5,6],\n",
    "              [7,8,9]])\n",
    "A"
   ]
  },
  {
   "cell_type": "markdown",
   "id": "94b1b3ac",
   "metadata": {},
   "source": [
    "a. Multiply $A$ times each of the following vectors using the @ operator. Explain which part of the $A$ matrix gets selected and explain why, using the definition of matrix multiplication. "
   ]
  },
  {
   "cell_type": "code",
   "execution_count": 3,
   "id": "5b6148d2",
   "metadata": {},
   "outputs": [],
   "source": [
    "e_1 = np.array([1,0,0])\n",
    "e_2 = np.array([0,1,0])\n",
    "e_3 = np.array([0,0,1])"
   ]
  },
  {
   "cell_type": "code",
   "execution_count": 4,
   "id": "c4127e18",
   "metadata": {},
   "outputs": [
    {
     "name": "stdout",
     "output_type": "stream",
     "text": [
      "[1 4 7]\n",
      "\n",
      "[2 5 8]\n",
      "\n",
      "[3 6 9]\n"
     ]
    }
   ],
   "source": [
    "print(A@e_1)\n",
    "print()\n",
    "print(A@e_2)\n",
    "print()\n",
    "print(A@e_3)"
   ]
  },
  {
   "cell_type": "markdown",
   "id": "b27e1c0c",
   "metadata": {},
   "source": [
    "> The 3 multiplications take the 1st, 2nd, and 3rd columns of A respectively. Looking at the definition of matrix multiplication where for every row in A, each value A_row_i in A is multiplied by x_i where i is the index as they are summed for the same row. As e_1, e_2, and e_3 all only have 1's and 0's, multiplication here is effectively an indicator function where a 1 keeps that column in A and a 0 leaves that column out of the summation. So e_1 multiplies the value of column 1 in each row by 1 and the rest are multiplied by 0, and similarly for e_2 and e_3"
   ]
  },
  {
   "cell_type": "markdown",
   "id": "72a4704e",
   "metadata": {},
   "source": [
    "b. Now multiply $A$ times $u = (1,1,1)$. Explain the logic of the result with the definition of matrix multiplication."
   ]
  },
  {
   "cell_type": "code",
   "execution_count": 5,
   "id": "5bf73f9b",
   "metadata": {},
   "outputs": [],
   "source": [
    "u = np.ones(3)"
   ]
  },
  {
   "cell_type": "code",
   "execution_count": 6,
   "id": "3491dbbc",
   "metadata": {},
   "outputs": [
    {
     "name": "stdout",
     "output_type": "stream",
     "text": [
      "[ 6. 15. 24.]\n"
     ]
    }
   ],
   "source": [
    "print(A@u)"
   ]
  },
  {
   "cell_type": "markdown",
   "id": "0332ba5f",
   "metadata": {},
   "source": [
    "> As all the values of u are 1, this keeps all of the values from A in the summations, so 6 is the sum of row 1 in A, 15 is the sum of row 2 in A, and 24 is the sum of row 3 in A. Looking at the definition of matrix multiplication, x_i is 1 throughout which is why all values of A are kept in there relative row summations."
   ]
  },
  {
   "cell_type": "markdown",
   "id": "dde75eab",
   "metadata": {},
   "source": [
    "c. Whenever a matrix has 1's on the diagonal and zeros everywhere else, we call it an **identity matrix**. What happens when you multiple $A$ times $x$ below? What happens when you multiple an identity matrix times any vector? Explain your result with the definition of matrix multiplication."
   ]
  },
  {
   "cell_type": "code",
   "execution_count": 7,
   "id": "b0d349c4",
   "metadata": {},
   "outputs": [
    {
     "name": "stdout",
     "output_type": "stream",
     "text": [
      "[-2  4 11]\n"
     ]
    }
   ],
   "source": [
    "A = np.array([ [1,0,0],\n",
    "              [0,1,0],\n",
    "              [0,0,1]])\n",
    "x = np.array([-2,4,11])\n",
    "print(A@x)"
   ]
  },
  {
   "cell_type": "markdown",
   "id": "69d84893",
   "metadata": {},
   "source": [
    "> A times x yields x exactly. Nothing changes in x, which is why A in this case is called the identity matrix as it does not change what is multiplied by it (x maintains its identity). This is the same for every vector that an identity matrix is multiplied by: the result is the same as the original vector. Looking at the definition of matrix multiplication, the summation based on row 1 in the identity matrix multiplies value 1 in the vector by 1 and the rest by 0, the summation based on row 2 in the identity matrix multiplies value 2 in the vector by 1 and the rest by, etc. This means the summation based on row i in the identity matrix only take value i in the vector, which is why the result is the original vector."
   ]
  },
  {
   "cell_type": "markdown",
   "id": "57141925",
   "metadata": {},
   "source": [
    "d. What if every row and column sum to 1, but the 1's are no longer on the diagonal? Multiple $A$ times $X$ below and explain the result. Create another matrix whose rows and columns sum to 1, but is not an identity matrix, and show how it permutes the values of $x$. "
   ]
  },
  {
   "cell_type": "code",
   "execution_count": 8,
   "id": "83a9ed11",
   "metadata": {},
   "outputs": [
    {
     "name": "stdout",
     "output_type": "stream",
     "text": [
      "[11 -2  4]\n"
     ]
    }
   ],
   "source": [
    "A = np.array([ [0,0,1],\n",
    "              [1,0,0],\n",
    "              [0,1,0]])\n",
    "x = np.array([-2,4,11])\n",
    "print(A@x)"
   ]
  },
  {
   "cell_type": "markdown",
   "id": "c0a9e59b",
   "metadata": {},
   "source": [
    "> With this format of a matrix (all 1s and 0s but 1s not necessarily on the diagonal), the result is a permutation of the original vector. The values of the vector are just in a different order based on where the 1s are in each row of matrix A. In this case matrix A has 1s in the 3rd, 1st, and 2nd positions for rows 1, 2 and 3. Thus, when multiplying it takes the 3rd, 1st, and then 2nd values from matrix x in that (permuated) order."
   ]
  },
  {
   "cell_type": "code",
   "execution_count": 9,
   "id": "3b03dd8f",
   "metadata": {},
   "outputs": [
    {
     "name": "stdout",
     "output_type": "stream",
     "text": [
      "[11  4 -2]\n"
     ]
    }
   ],
   "source": [
    "A = np.array([ [0,0,1],\n",
    "              [0,1,0],\n",
    "              [1,0,0]])\n",
    "x = np.array([-2,4,11])\n",
    "print(A@x)"
   ]
  },
  {
   "cell_type": "markdown",
   "id": "fc44dd43",
   "metadata": {},
   "source": [
    "> This matrix A has 1s as the diagonal as with the identity matrix but the diagonal is going the opposite direction. This leads to reversing the vector that is multiplied by it. The first row has a summation with on the last value in the vector, the 2nd row has a summation with the 2nd to last value in the vector, and so on until the last row has a summation with the only the first values in the vector."
   ]
  },
  {
   "cell_type": "markdown",
   "id": "611c26c3",
   "metadata": {},
   "source": [
    "e. The next matrix $A$ could be a Markov transition matrix: Its columns sum to 1, and each entry $a_{ij}$ can be interpreted as the proportion of observations who moved from state $j$ to state $i$. Multiply $A$ by each of the vectors $e_1$, $e_2$, and $e_3$, and explain your results."
   ]
  },
  {
   "cell_type": "code",
   "execution_count": 10,
   "id": "aff4fb97",
   "metadata": {},
   "outputs": [
    {
     "name": "stdout",
     "output_type": "stream",
     "text": [
      "[[0.50052958 0.24049286 0.18358131]\n",
      " [0.02574731 0.39251588 0.37907577]\n",
      " [0.47372311 0.36699127 0.43734292]]\n"
     ]
    }
   ],
   "source": [
    "rng = np.random.default_rng(100)\n",
    "A = rng.random((3,3)) # Generate a random 3X3 matrix\n",
    "sums = np.sum(A,axis=0) # Column sums\n",
    "A = A/sums # Normalize the columns so they sum to 1\n",
    "print(A)"
   ]
  },
  {
   "cell_type": "code",
   "execution_count": 11,
   "id": "fd6140a6",
   "metadata": {},
   "outputs": [
    {
     "name": "stdout",
     "output_type": "stream",
     "text": [
      "[0.50052958 0.02574731 0.47372311]\n",
      "\n",
      "[0.24049286 0.39251588 0.36699127]\n",
      "\n",
      "[0.18358131 0.37907577 0.43734292]\n"
     ]
    }
   ],
   "source": [
    "# e_1 = np.array([1,0,0])\n",
    "# e_2 = np.array([0,1,0])\n",
    "# e_3 = np.array([0,0,1])\n",
    "print(A@e_1)\n",
    "print()\n",
    "print(A@e_2)\n",
    "print()\n",
    "print(A@e_3)"
   ]
  },
  {
   "cell_type": "markdown",
   "id": "4490ae63",
   "metadata": {},
   "source": [
    "> In this case with viewing this as a Markov chain transition matrix, the state of e_1 is '1' as the value in position 1 of e_1 is 1 bu tthe rest are zeroes. Similarly , the state of e_2 is '2' and the state of e_3 is '3'. After multiplying the transition matrix A by those various state vectors, we get the probabilites of what state each of those vectors will transition to.\n",
    "\n",
    "> Multiplying by e_1 yields the first column in A, which shows us that if at e_1 (state '1'), we expect to transition and stay at state '1' about 50.1% of the time, transition to state '2' 2.5% of the time, and transition to state '3' 47.4% of the time. This carries over for e_2 and e_3 where the results are the probabilies of state e_2 and e_3 to transtiion to states '1', '2', and '3' respectively."
   ]
  },
  {
   "cell_type": "markdown",
   "id": "0647bfa7",
   "metadata": {},
   "source": [
    "f. For each of the vectors $e_1, e_2, e_3$, multiple $A$ times that vector 5 times. What answer do you get for each starting vector? Describe the behavior you observe."
   ]
  },
  {
   "cell_type": "code",
   "execution_count": 12,
   "id": "4a47ffca",
   "metadata": {},
   "outputs": [
    {
     "name": "stdout",
     "output_type": "stream",
     "text": [
      "[0.29266551 0.27862515 0.42870935]\n",
      "[0.29197422 0.27979983 0.42822595]\n",
      "[0.29171646 0.2802254  0.42805814]\n"
     ]
    }
   ],
   "source": [
    "# e_1 = np.array([1,0,0])\n",
    "# e_2 = np.array([0,1,0])\n",
    "# e_3 = np.array([0,0,1])\n",
    "for x in [e_1,e_2,e_3]:\n",
    "    p = x.copy()\n",
    "    for n in range(5):\n",
    "        p = A@p\n",
    "    print(p)"
   ]
  },
  {
   "cell_type": "markdown",
   "id": "ae4ef5ce",
   "metadata": {},
   "source": [
    "> So this multiplication of A by the vectors 5 times is forecasting to the estimate of what the probability of being at state '1', '2', or '3' is after 5 transitions. As can be seen, the probabilites for e_1, e_2, and e_3 are all close to identical. This is because the further out we are forecasting, the closer to the mean they will go as the information of that original state loses it's predictive power. "
   ]
  },
  {
   "cell_type": "markdown",
   "id": "fa2c9a93",
   "metadata": {},
   "source": [
    "### **2.** Let's consider a simple Markov transition matrix over two states:\n"
   ]
  },
  {
   "cell_type": "markdown",
   "id": "2da72578",
   "metadata": {},
   "source": [
    "$$\n",
    "T = \\left[ \\begin{array}{cc} p_{1\\leftarrow 1} &  p_{1\\leftarrow 2} \\\\\n",
    "p_{2 \\leftarrow 1} & p_{2 \\leftarrow 2} \\end{array}\\right] \n",
    "$$\n",
    "The arrows help visualize the transition a bit: This is the same index notation as usual, $p_{ij}$, but writing it $p_{i \\leftarrow j}$ emphasizes that it's the proportion of times that state $j$ transitions to state $i$. Below, $T$ is given by\n",
    "$$\n",
    "T = \\left[ \\begin{array}{cc} .25 & .5 \\\\\n",
    ".75 & .5 \\end{array}\\right].\n",
    "$$\n",
    "\n",
    "- Start in state 1, at the initial condition $[1,0]$. Multiply that vector by $T$. Write out the result in terms of the formula and compute the result in a code chunk below. What is this object you're looking at, in terms of proportions and transitions?\n",
    "- Multiple by $T$ again. What do you get? This isn't a column of $T$. Explain in words what it is. (Hint: A forecast of what in what period?)\n",
    "- Keep multiplying the current vector of outcomes by $T$. When does it start to settle down without changing further?\n",
    "- Do the above analysis again, starting from the initial condition $[0,1]$. Do you get a different result?\n",
    "- The take-away is that, in the long run, these chains settle down into the long-run proportions, and the sensitivity on initial conditions vanishes. \n"
   ]
  },
  {
   "cell_type": "code",
   "execution_count": 13,
   "id": "4b6a775f",
   "metadata": {},
   "outputs": [
    {
     "name": "stdout",
     "output_type": "stream",
     "text": [
      "[1 0]\n"
     ]
    }
   ],
   "source": [
    "T = np.array([[ 1/4, 1/2],\n",
    "              [ 3/4, 1/2 ]])\n",
    "initial_state = np.array([1,0])\n",
    "print(initial_state)"
   ]
  },
  {
   "cell_type": "code",
   "execution_count": 14,
   "id": "f08ced1b",
   "metadata": {},
   "outputs": [
    {
     "name": "stdout",
     "output_type": "stream",
     "text": [
      "[0.25 0.75]\n"
     ]
    }
   ],
   "source": [
    "state_2 = T @ initial_state\n",
    "print(state_2)"
   ]
  },
  {
   "cell_type": "markdown",
   "id": "23c777ab",
   "metadata": {},
   "source": [
    "> Looking at the formula, state_2 = [ $$ T_{11}*initial_{1} + T_{12}*initial_{2} , T_{21}*initial_{1} + T_{22}*initial_{2} $$ ] = [$$ 0.25*1 + 0.5*0 , 0.75*1 + 0.5*0 $$] = [$$ 0.25, 0.75 $$]\n",
    "\n",
    "> This result from code matches my calculation, and this represents the probabilites of being a certain state after 1 transition. So If we start at state '1', there is a 25% chance of transitioning to state '1' and a 75% chance of transitioning to state '2'. This is just taking column 1 from matrix T."
   ]
  },
  {
   "cell_type": "code",
   "execution_count": 15,
   "id": "01f79aa7",
   "metadata": {},
   "outputs": [
    {
     "name": "stdout",
     "output_type": "stream",
     "text": [
      "[0.4375 0.5625]\n"
     ]
    }
   ],
   "source": [
    "state_3 = T @ state_2\n",
    "print(state_3)"
   ]
  },
  {
   "cell_type": "markdown",
   "id": "3d5885cf",
   "metadata": {},
   "source": [
    "> If we multiply T by state_2, we get a forecast looking 2 states (2 periods) ahead of the original initial state [1 0] where we were in state '1'. So after 2 transitions from state '1', we have a probability of being in state '1' of 43.75% and being in state '2' of 56.25%."
   ]
  },
  {
   "cell_type": "code",
   "execution_count": 16,
   "id": "3b7323b4",
   "metadata": {},
   "outputs": [
    {
     "name": "stdout",
     "output_type": "stream",
     "text": [
      "[1 0]\n",
      "[0.25 0.75]\n",
      "[0.4375 0.5625]\n",
      "[0.390625 0.609375]\n",
      "[0.40234375 0.59765625]\n",
      "[0.39941406 0.60058594]\n",
      "[0.40014648 0.59985352]\n",
      "[0.39996338 0.60003662]\n",
      "[0.40000916 0.59999084]\n",
      "[0.39999771 0.60000229]\n",
      "[0.40000057 0.59999943]\n",
      "[0.39999986 0.60000014]\n",
      "[0.40000004 0.59999996]\n",
      "[0.39999999 0.60000001]\n",
      "[0.4 0.6]\n",
      "[0.4 0.6]\n",
      "[0.4 0.6]\n",
      "[0.4 0.6]\n",
      "[0.4 0.6]\n",
      "[0.4 0.6]\n"
     ]
    }
   ],
   "source": [
    "p = np.array([1,0])\n",
    "for n in range(20):\n",
    "    print(p)\n",
    "    p = T @ p"
   ]
  },
  {
   "cell_type": "markdown",
   "id": "1cab8610",
   "metadata": {},
   "source": [
    "> By the 14th transition the state probabilities are [0.4 0.6] exactly (after whatever rounding is happening under the hood) and it does not change. However, after just 4 transitions the state probabilities are above or below those final stable values by 0.2% which is very close. In this case the forecast converges to that final state very quickly."
   ]
  },
  {
   "cell_type": "code",
   "execution_count": 17,
   "id": "ace2fd9c",
   "metadata": {},
   "outputs": [
    {
     "name": "stdout",
     "output_type": "stream",
     "text": [
      "[0 1]\n",
      "[0.5 0.5]\n",
      "[0.375 0.625]\n",
      "[0.40625 0.59375]\n",
      "[0.3984375 0.6015625]\n",
      "[0.40039062 0.59960938]\n",
      "[0.39990234 0.60009766]\n",
      "[0.40002441 0.59997559]\n",
      "[0.3999939 0.6000061]\n",
      "[0.40000153 0.59999847]\n",
      "[0.39999962 0.60000038]\n",
      "[0.4000001 0.5999999]\n",
      "[0.39999998 0.60000002]\n",
      "[0.40000001 0.59999999]\n",
      "[0.4 0.6]\n",
      "[0.4 0.6]\n",
      "[0.4 0.6]\n",
      "[0.4 0.6]\n",
      "[0.4 0.6]\n",
      "[0.4 0.6]\n"
     ]
    }
   ],
   "source": [
    "p = np.array([0,1])\n",
    "for n in range(20):\n",
    "    print(p)\n",
    "    p = T @ p"
   ]
  },
  {
   "cell_type": "markdown",
   "id": "144eaceb",
   "metadata": {},
   "source": [
    "> Swapping the initial condition to state '2' with [0 1] does not have an affect on the long term forecast, it is still converging to the probabilites [0.4, 0.6] by about the 14th transition and already very close to that after just a few transitions. The stable convergence is dominated by the values of the transition matrix, not the initial state."
   ]
  },
  {
   "cell_type": "markdown",
   "id": "5d064a63",
   "metadata": {},
   "source": [
    "> Below is a random walk based on the transition matrix and starting at state 0"
   ]
  },
  {
   "cell_type": "code",
   "execution_count": 18,
   "id": "086b39f6",
   "metadata": {},
   "outputs": [
    {
     "name": "stdout",
     "output_type": "stream",
     "text": [
      "[0, 1, 0, 0, 0, 1, 0, 1, 1, 1, 0, 1, 0, 1, 0, 0, 1, 1, 0, 0, 1, 0, 1, 0, 0, 1, 0, 1, 1, 1, 1, 0, 1, 1, 0, 1, 1, 0, 1, 1, 1, 1, 1, 1, 1, 1, 0, 1, 1, 1, 0, 0, 1, 1, 1, 1, 1, 1, 0, 0, 1, 0, 1, 0, 0, 1, 1, 0, 0, 1, 1, 0, 0, 0, 0, 1, 0, 0, 1, 0, 1, 1, 1, 1, 1, 1, 0, 1, 0, 1, 0, 1, 1, 0, 1, 1, 1, 1, 0, 1]\n"
     ]
    }
   ],
   "source": [
    "state = 0\n",
    "sim = []\n",
    "for n in range(100):\n",
    "    sim.append(state)\n",
    "    prob = T[:,state] # takes a column rather than row\n",
    "    state = int(np.random.choice(a=[0,1], p=prob))\n",
    "print(sim)"
   ]
  },
  {
   "cell_type": "code",
   "execution_count": 19,
   "id": "139a1326",
   "metadata": {},
   "outputs": [
    {
     "name": "stdout",
     "output_type": "stream",
     "text": [
      "0.6\n"
     ]
    }
   ],
   "source": [
    "print(np.mean(sim))"
   ]
  },
  {
   "cell_type": "markdown",
   "id": "921592e9",
   "metadata": {},
   "source": [
    "### **3.** Weather data\n"
   ]
  },
  {
   "cell_type": "markdown",
   "id": "946a5167",
   "metadata": {},
   "source": [
    "\n",
    "- Load the `cville_weather.csv` data. This includes data from Jan 4, 2024 to Feb 2, 2025. Are there any missing data issues?\n",
    "- Based on the precipitation variable, `PRCP`, make a new variable called `rain` that takes the value 1 if `PRCP`>0 and 0 otherwise.\n",
    "- Build a two-state Markov chain over the states 0 and 1 for the `rain` variable. \n",
    "- For your chain from c, how likely is it to rain if it was rainy yesterday? How likely is it to rain if it was clear yesterday?\n",
    "- Starting from a clear day, forecast the distribution. How quickly does it converge to a fixed result? What if you start from a rainy day?\n",
    "- Conditional on being rainy, plot a KDE of the `PRCP` variable.\n",
    "- Describe one way of making your model better for forecasting and simulation the weather.\n",
    "\n",
    "Congratulations, you now are a non-parametric meteorologist!"
   ]
  },
  {
   "cell_type": "code",
   "execution_count": 20,
   "id": "2b85f64c",
   "metadata": {},
   "outputs": [
    {
     "data": {
      "text/html": [
       "<div>\n",
       "<style scoped>\n",
       "    .dataframe tbody tr th:only-of-type {\n",
       "        vertical-align: middle;\n",
       "    }\n",
       "\n",
       "    .dataframe tbody tr th {\n",
       "        vertical-align: top;\n",
       "    }\n",
       "\n",
       "    .dataframe thead th {\n",
       "        text-align: right;\n",
       "    }\n",
       "</style>\n",
       "<table border=\"1\" class=\"dataframe\">\n",
       "  <thead>\n",
       "    <tr style=\"text-align: right;\">\n",
       "      <th></th>\n",
       "      <th>STATION</th>\n",
       "      <th>NAME</th>\n",
       "      <th>DATE</th>\n",
       "      <th>DAPR</th>\n",
       "      <th>DAPR_ATTRIBUTES</th>\n",
       "      <th>MDPR</th>\n",
       "      <th>MDPR_ATTRIBUTES</th>\n",
       "      <th>PRCP</th>\n",
       "      <th>PRCP_ATTRIBUTES</th>\n",
       "      <th>SNOW</th>\n",
       "      <th>SNOW_ATTRIBUTES</th>\n",
       "      <th>SNWD</th>\n",
       "      <th>SNWD_ATTRIBUTES</th>\n",
       "      <th>rain</th>\n",
       "    </tr>\n",
       "  </thead>\n",
       "  <tbody>\n",
       "    <tr>\n",
       "      <th>0</th>\n",
       "      <td>US1VACRC002</td>\n",
       "      <td>CHARLOTTESVILLE 0.5 NNE, VA US</td>\n",
       "      <td>2024-01-04</td>\n",
       "      <td>NaN</td>\n",
       "      <td>NaN</td>\n",
       "      <td>NaN</td>\n",
       "      <td>NaN</td>\n",
       "      <td>0.03</td>\n",
       "      <td>,,N</td>\n",
       "      <td>NaN</td>\n",
       "      <td>NaN</td>\n",
       "      <td>NaN</td>\n",
       "      <td>NaN</td>\n",
       "      <td>1</td>\n",
       "    </tr>\n",
       "    <tr>\n",
       "      <th>1</th>\n",
       "      <td>US1VACRC002</td>\n",
       "      <td>CHARLOTTESVILLE 0.5 NNE, VA US</td>\n",
       "      <td>2024-01-07</td>\n",
       "      <td>NaN</td>\n",
       "      <td>NaN</td>\n",
       "      <td>NaN</td>\n",
       "      <td>NaN</td>\n",
       "      <td>1.08</td>\n",
       "      <td>,,N</td>\n",
       "      <td>NaN</td>\n",
       "      <td>NaN</td>\n",
       "      <td>NaN</td>\n",
       "      <td>NaN</td>\n",
       "      <td>1</td>\n",
       "    </tr>\n",
       "    <tr>\n",
       "      <th>2</th>\n",
       "      <td>US1VACRC002</td>\n",
       "      <td>CHARLOTTESVILLE 0.5 NNE, VA US</td>\n",
       "      <td>2024-01-09</td>\n",
       "      <td>NaN</td>\n",
       "      <td>NaN</td>\n",
       "      <td>NaN</td>\n",
       "      <td>NaN</td>\n",
       "      <td>0.24</td>\n",
       "      <td>,,N</td>\n",
       "      <td>NaN</td>\n",
       "      <td>NaN</td>\n",
       "      <td>NaN</td>\n",
       "      <td>NaN</td>\n",
       "      <td>1</td>\n",
       "    </tr>\n",
       "    <tr>\n",
       "      <th>3</th>\n",
       "      <td>US1VACRC002</td>\n",
       "      <td>CHARLOTTESVILLE 0.5 NNE, VA US</td>\n",
       "      <td>2024-01-10</td>\n",
       "      <td>NaN</td>\n",
       "      <td>NaN</td>\n",
       "      <td>NaN</td>\n",
       "      <td>NaN</td>\n",
       "      <td>3.00</td>\n",
       "      <td>,,N</td>\n",
       "      <td>NaN</td>\n",
       "      <td>NaN</td>\n",
       "      <td>NaN</td>\n",
       "      <td>NaN</td>\n",
       "      <td>1</td>\n",
       "    </tr>\n",
       "    <tr>\n",
       "      <th>4</th>\n",
       "      <td>US1VACRC002</td>\n",
       "      <td>CHARLOTTESVILLE 0.5 NNE, VA US</td>\n",
       "      <td>2024-01-24</td>\n",
       "      <td>NaN</td>\n",
       "      <td>NaN</td>\n",
       "      <td>NaN</td>\n",
       "      <td>NaN</td>\n",
       "      <td>0.00</td>\n",
       "      <td>,,N</td>\n",
       "      <td>0.0</td>\n",
       "      <td>,,N</td>\n",
       "      <td>NaN</td>\n",
       "      <td>NaN</td>\n",
       "      <td>0</td>\n",
       "    </tr>\n",
       "  </tbody>\n",
       "</table>\n",
       "</div>"
      ],
      "text/plain": [
       "       STATION                            NAME       DATE  DAPR  \\\n",
       "0  US1VACRC002  CHARLOTTESVILLE 0.5 NNE, VA US 2024-01-04   NaN   \n",
       "1  US1VACRC002  CHARLOTTESVILLE 0.5 NNE, VA US 2024-01-07   NaN   \n",
       "2  US1VACRC002  CHARLOTTESVILLE 0.5 NNE, VA US 2024-01-09   NaN   \n",
       "3  US1VACRC002  CHARLOTTESVILLE 0.5 NNE, VA US 2024-01-10   NaN   \n",
       "4  US1VACRC002  CHARLOTTESVILLE 0.5 NNE, VA US 2024-01-24   NaN   \n",
       "\n",
       "  DAPR_ATTRIBUTES  MDPR MDPR_ATTRIBUTES  PRCP PRCP_ATTRIBUTES  SNOW  \\\n",
       "0             NaN   NaN             NaN  0.03             ,,N   NaN   \n",
       "1             NaN   NaN             NaN  1.08             ,,N   NaN   \n",
       "2             NaN   NaN             NaN  0.24             ,,N   NaN   \n",
       "3             NaN   NaN             NaN  3.00             ,,N   NaN   \n",
       "4             NaN   NaN             NaN  0.00             ,,N   0.0   \n",
       "\n",
       "  SNOW_ATTRIBUTES  SNWD SNWD_ATTRIBUTES  rain  \n",
       "0             NaN   NaN             NaN     1  \n",
       "1             NaN   NaN             NaN     1  \n",
       "2             NaN   NaN             NaN     1  \n",
       "3             NaN   NaN             NaN     1  \n",
       "4             ,,N   NaN             NaN     0  "
      ]
     },
     "execution_count": 20,
     "metadata": {},
     "output_type": "execute_result"
    }
   ],
   "source": [
    "weather_all = pd.read_csv('data/cville_weather.csv')\n",
    "weather_all['rain'] = (weather_all['PRCP'] > 0).astype(int)\n",
    "weather_all['DATE'] = pd.to_datetime(weather_all['DATE'])\n",
    "weather_all.head()"
   ]
  },
  {
   "cell_type": "code",
   "execution_count": 21,
   "id": "49750dd0",
   "metadata": {},
   "outputs": [
    {
     "name": "stdout",
     "output_type": "stream",
     "text": [
      "PRCP\n",
      "False    399\n",
      "True      12\n",
      "Name: count, dtype: int64\n",
      "rain\n",
      "False    411\n",
      "Name: count, dtype: int64\n"
     ]
    }
   ],
   "source": [
    "print(weather_all['PRCP'].isna().value_counts())\n",
    "print(weather_all['rain'].isna().value_counts())"
   ]
  },
  {
   "cell_type": "markdown",
   "id": "a9f3c74f",
   "metadata": {},
   "source": [
    "> There is 12 missing values for PRCP and there does not seem to be a row for every date which will need to be handled some way. There is also the issue that 2 different stations meaning some dates have multiple values.\n",
    "\n",
    "> I am going to drop missing PRCP values, order by date, and take the maximum of PRCP for each day, and only calculate true day-to-day transitions. This reduce our counts but only show valid data"
   ]
  },
  {
   "cell_type": "code",
   "execution_count": 22,
   "id": "b7e1a217",
   "metadata": {},
   "outputs": [
    {
     "name": "stdout",
     "output_type": "stream",
     "text": [
      "        DATE  rain\n",
      "0 2024-01-04     1\n",
      "1 2024-01-07     1\n",
      "2 2024-01-08     0\n",
      "3 2024-01-09     1\n",
      "4 2024-01-10     1\n",
      "\n",
      "total: 312\n"
     ]
    }
   ],
   "source": [
    "weather = weather_all.dropna(subset=['PRCP'])[['DATE', 'rain']] # drop null PRCP, limit columns\n",
    "weather = weather.groupby('DATE').max().reset_index() # take max rain per day\n",
    "weather = weather.sort_values(by='DATE') # sort by date\n",
    "print(weather.head())\n",
    "print(\"\\ntotal:\", len(weather))\n"
   ]
  },
  {
   "cell_type": "code",
   "execution_count": 23,
   "id": "a0ccdec1",
   "metadata": {},
   "outputs": [
    {
     "data": {
      "text/html": [
       "<div>\n",
       "<style scoped>\n",
       "    .dataframe tbody tr th:only-of-type {\n",
       "        vertical-align: middle;\n",
       "    }\n",
       "\n",
       "    .dataframe tbody tr th {\n",
       "        vertical-align: top;\n",
       "    }\n",
       "\n",
       "    .dataframe thead th {\n",
       "        text-align: right;\n",
       "    }\n",
       "</style>\n",
       "<table border=\"1\" class=\"dataframe\">\n",
       "  <thead>\n",
       "    <tr style=\"text-align: right;\">\n",
       "      <th></th>\n",
       "      <th>DATE</th>\n",
       "      <th>rain</th>\n",
       "      <th>is_transition</th>\n",
       "    </tr>\n",
       "  </thead>\n",
       "  <tbody>\n",
       "    <tr>\n",
       "      <th>0</th>\n",
       "      <td>2024-01-04</td>\n",
       "      <td>1</td>\n",
       "      <td>False</td>\n",
       "    </tr>\n",
       "    <tr>\n",
       "      <th>1</th>\n",
       "      <td>2024-01-07</td>\n",
       "      <td>1</td>\n",
       "      <td>False</td>\n",
       "    </tr>\n",
       "    <tr>\n",
       "      <th>2</th>\n",
       "      <td>2024-01-08</td>\n",
       "      <td>0</td>\n",
       "      <td>True</td>\n",
       "    </tr>\n",
       "    <tr>\n",
       "      <th>3</th>\n",
       "      <td>2024-01-09</td>\n",
       "      <td>1</td>\n",
       "      <td>True</td>\n",
       "    </tr>\n",
       "    <tr>\n",
       "      <th>4</th>\n",
       "      <td>2024-01-10</td>\n",
       "      <td>1</td>\n",
       "      <td>True</td>\n",
       "    </tr>\n",
       "  </tbody>\n",
       "</table>\n",
       "</div>"
      ],
      "text/plain": [
       "        DATE  rain  is_transition\n",
       "0 2024-01-04     1          False\n",
       "1 2024-01-07     1          False\n",
       "2 2024-01-08     0           True\n",
       "3 2024-01-09     1           True\n",
       "4 2024-01-10     1           True"
      ]
     },
     "execution_count": 23,
     "metadata": {},
     "output_type": "execute_result"
    }
   ],
   "source": [
    "# is_transition is True if that row is a transition (is one day later than the previous row)\n",
    "weather['is_transition'] = weather['DATE']-pd.Timedelta(days=1) == weather['DATE'].shift(1)\n",
    "weather.head()"
   ]
  },
  {
   "cell_type": "code",
   "execution_count": 24,
   "id": "e19193c4",
   "metadata": {},
   "outputs": [
    {
     "name": "stdout",
     "output_type": "stream",
     "text": [
      "               To:   NO Rain      Rain\n",
      "From: NO Rain       0.723684  0.276316\n",
      "      Rain          0.396226  0.603774\n"
     ]
    }
   ],
   "source": [
    "weather_states = [0, 1]\n",
    "weather_transition_counts = np.zeros( (len(weather_states), len(weather_states)) )\n",
    "# weather_all_tr_cts = np.zeros( (len(weather_states), len(weather_states)) ) # without excluding non day-to-day transitions\n",
    "\n",
    "for i in range(len(weather)-1):\n",
    "    from_state = weather.loc[i,'rain']\n",
    "    to_state = weather.loc[i+1, 'rain']\n",
    "    is_transition = weather.loc[i+1,'is_transition']\n",
    "\n",
    "    # weather_all_tr_cts[from_state][to_state] += 1\n",
    "\n",
    "    if is_transition:        \n",
    "        weather_transition_counts[from_state][to_state] += 1\n",
    "\n",
    "weather_row_sums = weather_transition_counts.sum(axis=1, keepdims=True) # axis=1 is rows; rows because we want sum of all counts FROM same state\n",
    "# weather_row_sums_all = weather_all_tr_cts.sum(axis=1, keepdims=True)\n",
    "\n",
    "# Normalize the transition count matrix to get proportions:\n",
    "weather_tr_pr = np.divide(weather_transition_counts, \n",
    "                  weather_row_sums, \n",
    "                  out=np.zeros_like(weather_transition_counts),\n",
    "                  where=weather_row_sums!=0)\n",
    "# weather_tr_pr_all = np.divide(weather_all_tr_cts, \n",
    "#                   weather_row_sums_all, \n",
    "#                   out=np.zeros_like(weather_all_tr_cts),\n",
    "#                   where=weather_row_sums_all!=0)\n",
    "\n",
    "# print(\"Excluding non day-to-day transitions:\")\n",
    "print(pd.DataFrame(weather_tr_pr, index=[\"From: NO Rain\", \"      Rain\"], columns=[\"To:   NO Rain\", \"Rain\"]))\n",
    "# print(\"With non day-to-day transitions:\")\n",
    "# print(pd.DataFrame(weather_tr_pr_all, index=[\"From: NO Rain\", \"      Rain\"], columns=[\"To:   NO Rain\", \"Rain\"]))"
   ]
  },
  {
   "cell_type": "code",
   "execution_count": 25,
   "id": "a45fe57d",
   "metadata": {},
   "outputs": [
    {
     "data": {
      "image/png": "[encoded data removed]",
      "text/plain": [
       "<Figure size 500x500 with 2 Axes>"
      ]
     },
     "metadata": {},
     "output_type": "display_data"
    }
   ],
   "source": [
    "import seaborn as sns\n",
    "import matplotlib.pyplot as plt\n",
    "\n",
    "plt.figure(figsize=(5,5))\n",
    "sns.heatmap(weather_tr_pr, \n",
    "            cmap='Blues',\n",
    "            square=True,          \n",
    "            xticklabels=['Clear', 'Rain'],\n",
    "            yticklabels=['Clear', 'Rain'],\n",
    "            cbar_kws={'label': 'Transition Probability'},\n",
    "            annot=True)\n",
    "\n",
    "plt.title('Transition Probabilities')\n",
    "plt.xlabel('...To State')\n",
    "plt.ylabel('From State...')\n",
    "plt.show()"
   ]
  },
  {
   "cell_type": "markdown",
   "id": "c54d6b97",
   "metadata": {},
   "source": [
    "> Based on my Markov chain, there is a 27.6% chance of rain if it was not rainy yesterday, but a 60.3% chance of rain if it did rain yesterday."
   ]
  },
  {
   "cell_type": "code",
   "execution_count": 26,
   "id": "ae36607f",
   "metadata": {},
   "outputs": [
    {
     "data": {
      "text/html": [
       "<div>\n",
       "<style scoped>\n",
       "    .dataframe tbody tr th:only-of-type {\n",
       "        vertical-align: middle;\n",
       "    }\n",
       "\n",
       "    .dataframe tbody tr th {\n",
       "        vertical-align: top;\n",
       "    }\n",
       "\n",
       "    .dataframe thead th {\n",
       "        text-align: right;\n",
       "    }\n",
       "</style>\n",
       "<table border=\"1\" class=\"dataframe\">\n",
       "  <thead>\n",
       "    <tr style=\"text-align: right;\">\n",
       "      <th></th>\n",
       "      <th>initial</th>\n",
       "      <th>day 2</th>\n",
       "      <th>day 3</th>\n",
       "      <th>day 4</th>\n",
       "      <th>day 5</th>\n",
       "      <th>day 6</th>\n",
       "      <th>day 7</th>\n",
       "      <th>day 8</th>\n",
       "      <th>day 9</th>\n",
       "      <th>day 10</th>\n",
       "      <th>day 11</th>\n",
       "      <th>day 12</th>\n",
       "      <th>day 13</th>\n",
       "      <th>day 14</th>\n",
       "      <th>day 15</th>\n",
       "      <th>day 16</th>\n",
       "      <th>day 17</th>\n",
       "      <th>day 18</th>\n",
       "      <th>day 19</th>\n",
       "    </tr>\n",
       "  </thead>\n",
       "  <tbody>\n",
       "    <tr>\n",
       "      <th>Clear</th>\n",
       "      <td>1</td>\n",
       "      <td>0.723684</td>\n",
       "      <td>0.633202</td>\n",
       "      <td>0.603573</td>\n",
       "      <td>0.593871</td>\n",
       "      <td>0.590694</td>\n",
       "      <td>0.589654</td>\n",
       "      <td>0.589313</td>\n",
       "      <td>0.589202</td>\n",
       "      <td>0.589165</td>\n",
       "      <td>0.589153</td>\n",
       "      <td>0.589149</td>\n",
       "      <td>0.589148</td>\n",
       "      <td>0.589147</td>\n",
       "      <td>0.589147</td>\n",
       "      <td>0.589147</td>\n",
       "      <td>0.589147</td>\n",
       "      <td>0.589147</td>\n",
       "      <td>0.589147</td>\n",
       "    </tr>\n",
       "    <tr>\n",
       "      <th>Rain</th>\n",
       "      <td>0</td>\n",
       "      <td>0.276316</td>\n",
       "      <td>0.366798</td>\n",
       "      <td>0.396427</td>\n",
       "      <td>0.406129</td>\n",
       "      <td>0.409306</td>\n",
       "      <td>0.410346</td>\n",
       "      <td>0.410687</td>\n",
       "      <td>0.410798</td>\n",
       "      <td>0.410835</td>\n",
       "      <td>0.410847</td>\n",
       "      <td>0.410851</td>\n",
       "      <td>0.410852</td>\n",
       "      <td>0.410853</td>\n",
       "      <td>0.410853</td>\n",
       "      <td>0.410853</td>\n",
       "      <td>0.410853</td>\n",
       "      <td>0.410853</td>\n",
       "      <td>0.410853</td>\n",
       "    </tr>\n",
       "  </tbody>\n",
       "</table>\n",
       "</div>"
      ],
      "text/plain": [
       "       initial     day 2     day 3     day 4     day 5     day 6     day 7  \\\n",
       "Clear        1  0.723684  0.633202  0.603573  0.593871  0.590694  0.589654   \n",
       "Rain         0  0.276316  0.366798  0.396427  0.406129  0.409306  0.410346   \n",
       "\n",
       "          day 8     day 9    day 10    day 11    day 12    day 13    day 14  \\\n",
       "Clear  0.589313  0.589202  0.589165  0.589153  0.589149  0.589148  0.589147   \n",
       "Rain   0.410687  0.410798  0.410835  0.410847  0.410851  0.410852  0.410853   \n",
       "\n",
       "         day 15    day 16    day 17    day 18    day 19  \n",
       "Clear  0.589147  0.589147  0.589147  0.589147  0.589147  \n",
       "Rain   0.410853  0.410853  0.410853  0.410853  0.410853  "
      ]
     },
     "execution_count": 26,
     "metadata": {},
     "output_type": "execute_result"
    }
   ],
   "source": [
    "clear_state = np.array([1,0])\n",
    "clear_forecast = pd.DataFrame({'initial': clear_state}, index=['Clear', 'Rain'])\n",
    "cur_state = clear_state.copy()\n",
    "for i in range(2, 20):\n",
    "    cur_state = cur_state @ weather_tr_pr\n",
    "    clear_forecast[f'day {i}'] = cur_state\n",
    "clear_forecast"
   ]
  },
  {
   "cell_type": "code",
   "execution_count": 27,
   "id": "0571c1c0",
   "metadata": {},
   "outputs": [
    {
     "data": {
      "text/html": [
       "<div>\n",
       "<style scoped>\n",
       "    .dataframe tbody tr th:only-of-type {\n",
       "        vertical-align: middle;\n",
       "    }\n",
       "\n",
       "    .dataframe tbody tr th {\n",
       "        vertical-align: top;\n",
       "    }\n",
       "\n",
       "    .dataframe thead th {\n",
       "        text-align: right;\n",
       "    }\n",
       "</style>\n",
       "<table border=\"1\" class=\"dataframe\">\n",
       "  <thead>\n",
       "    <tr style=\"text-align: right;\">\n",
       "      <th></th>\n",
       "      <th>initial</th>\n",
       "      <th>day 2</th>\n",
       "      <th>day 3</th>\n",
       "      <th>day 4</th>\n",
       "      <th>day 5</th>\n",
       "      <th>day 6</th>\n",
       "      <th>day 7</th>\n",
       "      <th>day 8</th>\n",
       "      <th>day 9</th>\n",
       "      <th>day 10</th>\n",
       "      <th>day 11</th>\n",
       "      <th>day 12</th>\n",
       "      <th>day 13</th>\n",
       "      <th>day 14</th>\n",
       "      <th>day 15</th>\n",
       "      <th>day 16</th>\n",
       "      <th>day 17</th>\n",
       "      <th>day 18</th>\n",
       "      <th>day 19</th>\n",
       "    </tr>\n",
       "  </thead>\n",
       "  <tbody>\n",
       "    <tr>\n",
       "      <th>Clear</th>\n",
       "      <td>0</td>\n",
       "      <td>0.396226</td>\n",
       "      <td>0.525974</td>\n",
       "      <td>0.568461</td>\n",
       "      <td>0.582373</td>\n",
       "      <td>0.586929</td>\n",
       "      <td>0.588421</td>\n",
       "      <td>0.588909</td>\n",
       "      <td>0.589069</td>\n",
       "      <td>0.589122</td>\n",
       "      <td>0.589139</td>\n",
       "      <td>0.589145</td>\n",
       "      <td>0.589146</td>\n",
       "      <td>0.589147</td>\n",
       "      <td>0.589147</td>\n",
       "      <td>0.589147</td>\n",
       "      <td>0.589147</td>\n",
       "      <td>0.589147</td>\n",
       "      <td>0.589147</td>\n",
       "    </tr>\n",
       "    <tr>\n",
       "      <th>Rain</th>\n",
       "      <td>1</td>\n",
       "      <td>0.603774</td>\n",
       "      <td>0.474026</td>\n",
       "      <td>0.431539</td>\n",
       "      <td>0.417627</td>\n",
       "      <td>0.413071</td>\n",
       "      <td>0.411579</td>\n",
       "      <td>0.411091</td>\n",
       "      <td>0.410931</td>\n",
       "      <td>0.410878</td>\n",
       "      <td>0.410861</td>\n",
       "      <td>0.410855</td>\n",
       "      <td>0.410854</td>\n",
       "      <td>0.410853</td>\n",
       "      <td>0.410853</td>\n",
       "      <td>0.410853</td>\n",
       "      <td>0.410853</td>\n",
       "      <td>0.410853</td>\n",
       "      <td>0.410853</td>\n",
       "    </tr>\n",
       "  </tbody>\n",
       "</table>\n",
       "</div>"
      ],
      "text/plain": [
       "       initial     day 2     day 3     day 4     day 5     day 6     day 7  \\\n",
       "Clear        0  0.396226  0.525974  0.568461  0.582373  0.586929  0.588421   \n",
       "Rain         1  0.603774  0.474026  0.431539  0.417627  0.413071  0.411579   \n",
       "\n",
       "          day 8     day 9    day 10    day 11    day 12    day 13    day 14  \\\n",
       "Clear  0.588909  0.589069  0.589122  0.589139  0.589145  0.589146  0.589147   \n",
       "Rain   0.411091  0.410931  0.410878  0.410861  0.410855  0.410854  0.410853   \n",
       "\n",
       "         day 15    day 16    day 17    day 18    day 19  \n",
       "Clear  0.589147  0.589147  0.589147  0.589147  0.589147  \n",
       "Rain   0.410853  0.410853  0.410853  0.410853  0.410853  "
      ]
     },
     "execution_count": 27,
     "metadata": {},
     "output_type": "execute_result"
    }
   ],
   "source": [
    "rain_state = np.array([0,1])\n",
    "rain_forecast = pd.DataFrame({'initial': rain_state}, index=['Clear', 'Rain'])\n",
    "cur_state = rain_state.copy()\n",
    "for i in range(2, 20):\n",
    "    cur_state = cur_state @ weather_tr_pr\n",
    "    rain_forecast[f'day {i}'] = cur_state\n",
    "rain_forecast"
   ]
  },
  {
   "cell_type": "markdown",
   "id": "3f65c4c1",
   "metadata": {},
   "source": [
    "> The forecast starting at a clear day converges to having 3 consistent decimal places by the 6th transition. For the one starting at a rainy day, it does so by the 8th transition. Both are converging to the same values, and for both they converge to the same 6 decimal places after 13 transitions (to day 14)."
   ]
  },
  {
   "cell_type": "code",
   "execution_count": 28,
   "id": "c25f4e93",
   "metadata": {},
   "outputs": [
    {
     "data": {
      "image/png": "[encoded data removed]",
      "text/plain": [
       "<Figure size 640x480 with 1 Axes>"
      ]
     },
     "metadata": {},
     "output_type": "display_data"
    }
   ],
   "source": [
    "rainy_days = weather_all[weather_all['rain'] == 1]\n",
    "sns.kdeplot(rainy_days['PRCP'])\n",
    "plt.show()"
   ]
  },
  {
   "cell_type": "markdown",
   "id": "844d09f8",
   "metadata": {},
   "source": [
    "> Using more information in the forecast could help. The chance of rain based on the previous day likely varies based on month of the year, so finding a way to account for that would help. We could also use more data like the previous day's temperature and pressure. I am not sure if there is a way to bake these into some sort of Markov chain though."
   ]
  },
  {
   "cell_type": "markdown",
   "id": "b953c2c4",
   "metadata": {},
   "source": [
    "### **4.** Taxicab trajectories: Using the pickled taxicab data, we want to complete the exercise from class.\n"
   ]
  },
  {
   "cell_type": "markdown",
   "id": "4a1df9a2",
   "metadata": {},
   "source": [
    "\n",
    "- For the taxicab trajectory data, determine your state space and clean your sequences of cab rides.\n",
    "- Compute the transition matrix for the taxicab data between neighborhoods in Manhattan. Plot it in a heat map. What are the most common routes?\n",
    "- Explain why taxicabs are most likely order 1, and not 2 or more.\n",
    "- Starting at Hell's Kitchen, create a sequence of forecasts of where the cab is likely to be in 2, 3, 5, and 10 trips\n",
    "- Starting at any neighborhood, iterate your forecast until it is no longer changing very much. Where do cabs spend most of their time working in Manhattan?"
   ]
  },
  {
   "cell_type": "code",
   "execution_count": 29,
   "id": "187b62a4",
   "metadata": {},
   "outputs": [],
   "source": [
    "with open('data/taxicab.pkl', 'rb') as f:\n",
    "    taxi = pickle.load(f)"
   ]
  },
  {
   "cell_type": "code",
   "execution_count": 30,
   "id": "42f4918e",
   "metadata": {},
   "outputs": [],
   "source": [
    "taxi_states = set()\n",
    "for trip in taxi:\n",
    "    trip_states = set(trip)\n",
    "    taxi_states = taxi_states.union(trip_states)\n",
    "taxi_states = sorted(list(taxi_states))"
   ]
  },
  {
   "cell_type": "code",
   "execution_count": 31,
   "id": "ebb50e95",
   "metadata": {},
   "outputs": [],
   "source": [
    "num_states = len(taxi_states)\n",
    "taxi_transition_counts = np.zeros( (num_states, num_states) )\n",
    "# dict_test = {str(x): {} for x in taxi_states}\n",
    "\n",
    "for trip in taxi:\n",
    "    t = list(trip)\n",
    "    for i in range(len(t)-1):\n",
    "        from_state = t[i]\n",
    "        to_state = t[i+1]\n",
    "\n",
    "        from_index = taxi_states.index(from_state)\n",
    "        to_index = taxi_states.index(to_state)\n",
    "        \n",
    "        taxi_transition_counts[from_index][to_index] += 1\n",
    "\n",
    "row_sums = taxi_transition_counts.sum(axis=1, keepdims=True) # axis=1 is rows; rows because we want sum of all counts FROM same state\n",
    "\n",
    "# Normalize the transition count matrix to get proportions:\n",
    "taxi_tr_pr = np.divide(taxi_transition_counts, \n",
    "                  row_sums, \n",
    "                  out=np.zeros_like(taxi_transition_counts),\n",
    "                  where=row_sums!=0)\n"
   ]
  },
  {
   "cell_type": "code",
   "execution_count": 32,
   "id": "53931eaa",
   "metadata": {},
   "outputs": [
    {
     "data": {
      "image/png": "[encoded data removed]",
      "text/plain": [
       "<Figure size 1000x1000 with 2 Axes>"
      ]
     },
     "metadata": {},
     "output_type": "display_data"
    }
   ],
   "source": [
    "import seaborn as sns\n",
    "import matplotlib.pyplot as plt\n",
    "\n",
    "plt.figure(figsize=(10,10))\n",
    "sns.heatmap(taxi_tr_pr, \n",
    "            cmap='Blues',\n",
    "            square=True,          \n",
    "            xticklabels=taxi_states,\n",
    "            yticklabels=taxi_states,\n",
    "            cbar_kws={'label': 'Transition Probability'},)\n",
    "\n",
    "plt.title('Transition Probabilities')\n",
    "plt.xlabel('...To State')\n",
    "plt.ylabel('From State...')\n",
    "plt.show()"
   ]
  },
  {
   "cell_type": "markdown",
   "id": "f379d3db",
   "metadata": {},
   "source": [
    "> The most popular route is from Liberty Island to Gramercy as 100% of taxi cab rides starting in Liberty Island go to Gramercy in the dataset (there is only 1 instance in all the data).\n",
    "\n",
    "> There is a clear trend along the diagonal in which a lot of cab rides stay within the same neighborhood, as some of the most common routes are staying in Outside Manhattan, staying in Upper East Side, and staying in Upper West Side.\n",
    "\n",
    "> Some other common routes are Ellis Island to Little Italy, Ellis Island to Outside Manhattan, Ellis Island to Tribeca, Governors Island to Outside Manhattan, and Morningside Heights to Upper West Side.\n",
    "\n",
    "> Taxi cab routes are most likely order 1 because individual rides are independent of eachother. The next person to get into the cab is choosing a destination that has nothing to do with where the cap was before they got in."
   ]
  },
  {
   "cell_type": "code",
   "execution_count": 33,
   "id": "7afa3c74",
   "metadata": {},
   "outputs": [],
   "source": [
    "def run_forecast(transition_matrix, initial_state, num_transitions):\n",
    "    cur_state = initial_state.copy()\n",
    "    for _ in range(num_transitions):\n",
    "        cur_state = cur_state @ transition_matrix\n",
    "    return cur_state"
   ]
  },
  {
   "cell_type": "code",
   "execution_count": 34,
   "id": "4af018f1",
   "metadata": {},
   "outputs": [
    {
     "name": "stdout",
     "output_type": "stream",
     "text": [
      "                     2 trips  3 trips  5 trips  10 trips\n",
      "Battery Park City    0.00862  0.00930  0.00976   0.00997\n",
      "Central Park         0.01560  0.01640  0.01641   0.01615\n",
      "Chelsea              0.10868  0.09719  0.08806   0.08614\n",
      "Chinatown            0.00306  0.00379  0.00439   0.00460\n",
      "Civic Center         0.00168  0.00210  0.00241   0.00252\n",
      "East Harlem          0.00986  0.01218  0.01364   0.01382\n",
      "East Village         0.02498  0.03165  0.03695   0.03862\n",
      "Ellis Island         0.00000  0.00000  0.00000   0.00000\n",
      "Financial District   0.01400  0.01654  0.01850   0.01919\n",
      "Flatiron District    0.01562  0.01698  0.01721   0.01721\n",
      "Governors Island     0.00000  0.00000  0.00000   0.00000\n",
      "Gramercy             0.01526  0.01884  0.02119   0.02182\n",
      "Greenwich Village    0.01699  0.02003  0.02174   0.02219\n",
      "Harlem               0.01020  0.01014  0.00973   0.00947\n",
      "Hell's Kitchen       0.11919  0.07520  0.05658   0.05339\n",
      "Inwood               0.00088  0.00072  0.00064   0.00062\n",
      "Kips Bay             0.01584  0.01939  0.02158   0.02209\n",
      "Liberty Island       0.00000  0.00000  0.00000   0.00000\n",
      "Little Italy         0.00118  0.00142  0.00161   0.00168\n",
      "Lower East Side      0.01002  0.01291  0.01528   0.01610\n",
      "Marble Hill          0.00003  0.00002  0.00002   0.00002\n",
      "Midtown              0.17254  0.17265  0.16934   0.16784\n",
      "Morningside Heights  0.00727  0.00778  0.00742   0.00711\n",
      "Murray Hill          0.02287  0.02647  0.02818   0.02849\n",
      "NoHo                 0.00496  0.00629  0.00727   0.00758\n",
      "Nolita               0.00299  0.00379  0.00441   0.00462\n",
      "Outside Manhattan    0.07782  0.09002  0.09940   0.10280\n",
      "Randall's Island     0.00011  0.00013  0.00015   0.00016\n",
      "Roosevelt Island     0.00029  0.00032  0.00034   0.00035\n",
      "SoHo                 0.01770  0.02101  0.02322   0.02393\n",
      "Stuyvesant Town      0.00312  0.00400  0.00465   0.00484\n",
      "Theater District     0.05989  0.04725  0.03962   0.03810\n",
      "Tribeca              0.01331  0.01559  0.01719   0.01776\n",
      "Two Bridges          0.00029  0.00037  0.00043   0.00045\n",
      "Upper East Side      0.08694  0.10798  0.12044   0.12196\n",
      "Upper West Side      0.09895  0.09157  0.08256   0.07874\n",
      "Washington Heights   0.00411  0.00364  0.00328   0.00316\n",
      "West Village         0.03517  0.03637  0.03640   0.03651\n"
     ]
    }
   ],
   "source": [
    "hells_kitchen_initial = np.array([int(x == \"Hell's Kitchen\") for x in taxi_states])\n",
    "hells_kitchen_2trips = run_forecast(taxi_tr_pr, hells_kitchen_initial, 2)\n",
    "hells_kitchen_3trips = run_forecast(taxi_tr_pr, hells_kitchen_initial, 3)\n",
    "hells_kitchen_5trips = run_forecast(taxi_tr_pr, hells_kitchen_initial, 5)\n",
    "hells_kitchen_10trips = run_forecast(taxi_tr_pr, hells_kitchen_initial, 10)\n",
    "\n",
    "pd.set_option('display.float_format', lambda x: '%.5f' % x)\n",
    "print(pd.DataFrame(index=taxi_states, data={\n",
    "    \"2 trips\": hells_kitchen_2trips,\n",
    "    \"3 trips\": hells_kitchen_3trips,\n",
    "    \"5 trips\": hells_kitchen_5trips,\n",
    "    \"10 trips\": hells_kitchen_10trips\n",
    "}))\n",
    "pd.reset_option('display.float_format')"
   ]
  },
  {
   "cell_type": "code",
   "execution_count": 35,
   "id": "588283df",
   "metadata": {},
   "outputs": [
    {
     "name": "stdout",
     "output_type": "stream",
     "text": [
      "19\n"
     ]
    }
   ],
   "source": [
    "harlem_initial = np.array([int(x == \"Harlem\") for x in taxi_states])\n",
    "harlem_prev = harlem_initial.copy()\n",
    "num_transition = 1\n",
    "while True:\n",
    "    harlem_forecast = run_forecast(taxi_tr_pr, harlem_initial, num_transition)\n",
    "    max_diff = max(abs(harlem_forecast - harlem_prev))\n",
    "\n",
    "    if max_diff < 0.00001 or num_transition > 1000:\n",
    "        print(num_transition)\n",
    "        break\n",
    "\n",
    "    harlem_prev = harlem_forecast\n",
    "    num_transition += 1"
   ]
  },
  {
   "cell_type": "markdown",
   "id": "40bfff09",
   "metadata": {},
   "source": [
    "> So it looks like no probabilities in the forecast are changing by more than 0.0001 after 15 transitions which seems like a good convergence for a stability."
   ]
  },
  {
   "cell_type": "code",
   "execution_count": 36,
   "id": "5beccd89",
   "metadata": {},
   "outputs": [
    {
     "name": "stdout",
     "output_type": "stream",
     "text": [
      "                     19 trips  20 trips\n",
      "Midtown               0.16775   0.16775\n",
      "Upper East Side       0.12185   0.12184\n",
      "Outside Manhattan     0.10295   0.10295\n",
      "Chelsea               0.08615   0.08615\n",
      "Upper West Side       0.07855   0.07855\n",
      "Hell's Kitchen        0.05332   0.05332\n",
      "East Village          0.03870   0.03870\n",
      "Theater District      0.03807   0.03806\n",
      "West Village          0.03655   0.03655\n",
      "Murray Hill           0.02850   0.02850\n",
      "SoHo                  0.02398   0.02398\n",
      "Greenwich Village     0.02222   0.02222\n",
      "Kips Bay              0.02211   0.02211\n",
      "Gramercy              0.02185   0.02185\n",
      "Financial District    0.01923   0.01923\n",
      "Tribeca               0.01779   0.01780\n",
      "Flatiron District     0.01721   0.01721\n",
      "Lower East Side       0.01614   0.01614\n",
      "Central Park          0.01612   0.01612\n",
      "East Harlem           0.01380   0.01380\n",
      "Battery Park City     0.00998   0.00998\n",
      "Harlem                0.00946   0.00946\n",
      "NoHo                  0.00759   0.00759\n",
      "Morningside Heights   0.00709   0.00709\n",
      "Stuyvesant Town       0.00485   0.00485\n",
      "Nolita                0.00463   0.00463\n",
      "Chinatown             0.00461   0.00461\n",
      "Washington Heights    0.00316   0.00316\n",
      "Civic Center          0.00252   0.00252\n",
      "Little Italy          0.00168   0.00168\n",
      "Inwood                0.00062   0.00062\n",
      "Two Bridges           0.00045   0.00045\n",
      "Roosevelt Island      0.00035   0.00035\n",
      "Randall's Island      0.00016   0.00016\n",
      "Marble Hill           0.00002   0.00002\n",
      "Governors Island      0.00000   0.00000\n",
      "Ellis Island          0.00000   0.00000\n",
      "Liberty Island        0.00000   0.00000\n"
     ]
    }
   ],
   "source": [
    "harlem_initial = np.array([int(x == \"Harlem\") for x in taxi_states])\n",
    "harlem_19trips = run_forecast(taxi_tr_pr, harlem_initial, 19)\n",
    "harlem_20trips = run_forecast(taxi_tr_pr, harlem_initial, 20)\n",
    "\n",
    "pd.set_option('display.float_format', lambda x: '%.5f' % x)\n",
    "print(pd.DataFrame(index=taxi_states, data={\n",
    "    \"19 trips\": harlem_19trips,\n",
    "    \"20 trips\": harlem_20trips\n",
    "}).sort_values(by=\"19 trips\", ascending=False))\n",
    "pd.reset_option('display.float_format')"
   ]
  },
  {
   "cell_type": "markdown",
   "id": "deeebb72",
   "metadata": {},
   "source": [
    "> Based on this, taxicab drivers spend most of their time in Midtown with a 16.8% probability of ending up there after an arbitrary number of trips (greater than or equal to 19) starting in Harlem (and likley for any neighborhood). The next most common places are Upper East Side (12.2%), Outside Manhattan (10.3%), Chelsea (8.6%), Upper West Side (7.9%), and Hell's Kitchen (5.3%). The rest of the neighborhoods have a probability of being there after 19 (or an arbitrary high number) trips less than 5%."
   ]
  }
 ],
 "metadata": {
  "kernelspec": {
   "display_name": "ds6001",
   "language": "python",
   "name": "python3"
  },
  "language_info": {
   "codemirror_mode": {
    "name": "ipython",
    "version": 3
   },
   "file_extension": ".py",
   "mimetype": "text/x-python",
   "name": "python",
   "nbconvert_exporter": "python",
   "pygments_lexer": "ipython3",
   "version": "3.13.5"
  }
 },
 "nbformat": 4,
 "nbformat_minor": 5
}
